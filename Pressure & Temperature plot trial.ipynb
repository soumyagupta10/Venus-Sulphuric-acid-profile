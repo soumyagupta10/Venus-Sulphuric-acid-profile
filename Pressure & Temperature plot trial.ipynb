{
 "cells": [
  {
   "cell_type": "code",
   "execution_count": 20,
   "id": "d48ff903",
   "metadata": {},
   "outputs": [],
   "source": [
    "import pandas as pd\n",
    "import numpy as np\n",
    "import matplotlib.pyplot as plt\n"
   ]
  },
  {
   "cell_type": "code",
   "execution_count": 21,
   "id": "7ef21959",
   "metadata": {},
   "outputs": [],
   "source": [
    "# Radius of Venus = 6051.8 km \n",
    "# Surface pressure = 92 bars\n",
    "# Of latitude: 58-54 degree"
   ]
  },
  {
   "cell_type": "code",
   "execution_count": 22,
   "id": "76e43d51",
   "metadata": {},
   "outputs": [],
   "source": [
    "pressure_data = pd.read_csv(\"Pressure_Altitude.csv\")"
   ]
  },
  {
   "cell_type": "code",
   "execution_count": 23,
   "id": "ca94b299",
   "metadata": {},
   "outputs": [
    {
     "data": {
      "text/html": [
       "<div>\n",
       "<style scoped>\n",
       "    .dataframe tbody tr th:only-of-type {\n",
       "        vertical-align: middle;\n",
       "    }\n",
       "\n",
       "    .dataframe tbody tr th {\n",
       "        vertical-align: top;\n",
       "    }\n",
       "\n",
       "    .dataframe thead th {\n",
       "        text-align: right;\n",
       "    }\n",
       "</style>\n",
       "<table border=\"1\" class=\"dataframe\">\n",
       "  <thead>\n",
       "    <tr style=\"text-align: right;\">\n",
       "      <th></th>\n",
       "      <th>Pressure(bar)</th>\n",
       "      <th>Radial_Distance</th>\n",
       "    </tr>\n",
       "  </thead>\n",
       "  <tbody>\n",
       "    <tr>\n",
       "      <th>0</th>\n",
       "      <td>0.967948</td>\n",
       "      <td>6101.8249</td>\n",
       "    </tr>\n",
       "    <tr>\n",
       "      <th>1</th>\n",
       "      <td>0.856854</td>\n",
       "      <td>6102.7490</td>\n",
       "    </tr>\n",
       "    <tr>\n",
       "      <th>2</th>\n",
       "      <td>0.850218</td>\n",
       "      <td>6102.8071</td>\n",
       "    </tr>\n",
       "    <tr>\n",
       "      <th>3</th>\n",
       "      <td>0.828562</td>\n",
       "      <td>6102.9994</td>\n",
       "    </tr>\n",
       "    <tr>\n",
       "      <th>4</th>\n",
       "      <td>0.800032</td>\n",
       "      <td>6103.2587</td>\n",
       "    </tr>\n",
       "    <tr>\n",
       "      <th>...</th>\n",
       "      <td>...</td>\n",
       "      <td>...</td>\n",
       "    </tr>\n",
       "    <tr>\n",
       "      <th>106</th>\n",
       "      <td>0.000098</td>\n",
       "      <td>6148.3083</td>\n",
       "    </tr>\n",
       "    <tr>\n",
       "      <th>107</th>\n",
       "      <td>0.000078</td>\n",
       "      <td>6149.3917</td>\n",
       "    </tr>\n",
       "    <tr>\n",
       "      <th>108</th>\n",
       "      <td>0.000062</td>\n",
       "      <td>6150.4749</td>\n",
       "    </tr>\n",
       "    <tr>\n",
       "      <th>109</th>\n",
       "      <td>0.000050</td>\n",
       "      <td>6151.5628</td>\n",
       "    </tr>\n",
       "    <tr>\n",
       "      <th>110</th>\n",
       "      <td>0.000039</td>\n",
       "      <td>6152.6538</td>\n",
       "    </tr>\n",
       "  </tbody>\n",
       "</table>\n",
       "<p>111 rows × 2 columns</p>\n",
       "</div>"
      ],
      "text/plain": [
       "     Pressure(bar)  Radial_Distance\n",
       "0         0.967948        6101.8249\n",
       "1         0.856854        6102.7490\n",
       "2         0.850218        6102.8071\n",
       "3         0.828562        6102.9994\n",
       "4         0.800032        6103.2587\n",
       "..             ...              ...\n",
       "106       0.000098        6148.3083\n",
       "107       0.000078        6149.3917\n",
       "108       0.000062        6150.4749\n",
       "109       0.000050        6151.5628\n",
       "110       0.000039        6152.6538\n",
       "\n",
       "[111 rows x 2 columns]"
      ]
     },
     "execution_count": 23,
     "metadata": {},
     "output_type": "execute_result"
    }
   ],
   "source": [
    "pressure_data"
   ]
  },
  {
   "cell_type": "code",
   "execution_count": 24,
   "id": "a204f115",
   "metadata": {},
   "outputs": [
    {
     "data": {
      "text/plain": [
       "Index(['Pressure(bar)', 'Radial_Distance'], dtype='object')"
      ]
     },
     "execution_count": 24,
     "metadata": {},
     "output_type": "execute_result"
    }
   ],
   "source": [
    "pressure_data.columns"
   ]
  },
  {
   "cell_type": "code",
   "execution_count": 25,
   "id": "0b9794f0",
   "metadata": {},
   "outputs": [],
   "source": [
    "pressure_data['Altitude(km)']= pressure_data['Radial_Distance']-6051.8\n",
    "pressure_data['Pressure(Pa)'] = pressure_data['Pressure(bar)']*10**5\n",
    "pressure_data['Pressure(atm)'] = pressure_data['Pressure(bar)']*0.9869"
   ]
  },
  {
   "cell_type": "code",
   "execution_count": 26,
   "id": "402d88c1",
   "metadata": {},
   "outputs": [],
   "source": [
    "x= pressure_data['Pressure(atm)']\n",
    "y=pressure_data['Altitude(km)']"
   ]
  },
  {
   "cell_type": "code",
   "execution_count": 27,
   "id": "f9a2354f",
   "metadata": {},
   "outputs": [
    {
     "data": {
      "text/plain": [
       "[<matplotlib.lines.Line2D at 0x23ea061c1f0>]"
      ]
     },
     "execution_count": 27,
     "metadata": {},
     "output_type": "execute_result"
    },
    {
     "data": {
      "image/png": "[encoded data removed]",
      "text/plain": [
       "<Figure size 640x480 with 1 Axes>"
      ]
     },
     "metadata": {},
     "output_type": "display_data"
    }
   ],
   "source": [
    "plt.xlabel('Pressure(atm)')\n",
    "plt.ylabel('Altitude(kms)')\n",
    "plt.title('Pressure Variation Profile')\n",
    "plt.ylim(45,85)\n",
    "plt.plot(x,y)\n",
    "\n",
    "# Surface pressure is 91 bars"
   ]
  },
  {
   "cell_type": "code",
   "execution_count": 28,
   "id": "e07f336c",
   "metadata": {},
   "outputs": [],
   "source": [
    "temp_data = pd.read_csv(\"Temperature.csv\")\n",
    "temp_data2 = pd.read_csv(\"equatorial_temp.csv\")\n"
   ]
  },
  {
   "cell_type": "code",
   "execution_count": 29,
   "id": "b7da7ffd",
   "metadata": {
    "scrolled": true
   },
   "outputs": [
    {
     "data": {
      "text/html": [
       "<div>\n",
       "<style scoped>\n",
       "    .dataframe tbody tr th:only-of-type {\n",
       "        vertical-align: middle;\n",
       "    }\n",
       "\n",
       "    .dataframe tbody tr th {\n",
       "        vertical-align: top;\n",
       "    }\n",
       "\n",
       "    .dataframe thead th {\n",
       "        text-align: right;\n",
       "    }\n",
       "</style>\n",
       "<table border=\"1\" class=\"dataframe\">\n",
       "  <thead>\n",
       "    <tr style=\"text-align: right;\">\n",
       "      <th></th>\n",
       "      <th>Radial_Dist</th>\n",
       "      <th>Temperature</th>\n",
       "      <th>sza</th>\n",
       "      <th>Lon</th>\n",
       "      <th>lat</th>\n",
       "    </tr>\n",
       "  </thead>\n",
       "  <tbody>\n",
       "    <tr>\n",
       "      <th>0</th>\n",
       "      <td>6101.824883</td>\n",
       "      <td>352.504434</td>\n",
       "      <td>61.920373</td>\n",
       "      <td>166.520734</td>\n",
       "      <td>58.434710</td>\n",
       "    </tr>\n",
       "    <tr>\n",
       "      <th>1</th>\n",
       "      <td>6102.749043</td>\n",
       "      <td>342.537802</td>\n",
       "      <td>61.654615</td>\n",
       "      <td>166.540057</td>\n",
       "      <td>58.117350</td>\n",
       "    </tr>\n",
       "    <tr>\n",
       "      <th>2</th>\n",
       "      <td>6102.807146</td>\n",
       "      <td>342.241615</td>\n",
       "      <td>61.610072</td>\n",
       "      <td>166.543263</td>\n",
       "      <td>58.064125</td>\n",
       "    </tr>\n",
       "    <tr>\n",
       "      <th>3</th>\n",
       "      <td>6102.999387</td>\n",
       "      <td>340.465077</td>\n",
       "      <td>61.532379</td>\n",
       "      <td>166.548833</td>\n",
       "      <td>57.971265</td>\n",
       "    </tr>\n",
       "    <tr>\n",
       "      <th>4</th>\n",
       "      <td>6103.258709</td>\n",
       "      <td>337.623873</td>\n",
       "      <td>61.461142</td>\n",
       "      <td>166.553916</td>\n",
       "      <td>57.886094</td>\n",
       "    </tr>\n",
       "  </tbody>\n",
       "</table>\n",
       "</div>"
      ],
      "text/plain": [
       "   Radial_Dist  Temperature        sza         Lon        lat\n",
       "0  6101.824883   352.504434  61.920373  166.520734  58.434710\n",
       "1  6102.749043   342.537802  61.654615  166.540057  58.117350\n",
       "2  6102.807146   342.241615  61.610072  166.543263  58.064125\n",
       "3  6102.999387   340.465077  61.532379  166.548833  57.971265\n",
       "4  6103.258709   337.623873  61.461142  166.553916  57.886094"
      ]
     },
     "execution_count": 29,
     "metadata": {},
     "output_type": "execute_result"
    }
   ],
   "source": [
    "temp_data.head()"
   ]
  },
  {
   "cell_type": "code",
   "execution_count": 30,
   "id": "dee88c0b",
   "metadata": {},
   "outputs": [
    {
     "data": {
      "text/html": [
       "<div>\n",
       "<style scoped>\n",
       "    .dataframe tbody tr th:only-of-type {\n",
       "        vertical-align: middle;\n",
       "    }\n",
       "\n",
       "    .dataframe tbody tr th {\n",
       "        vertical-align: top;\n",
       "    }\n",
       "\n",
       "    .dataframe thead th {\n",
       "        text-align: right;\n",
       "    }\n",
       "</style>\n",
       "<table border=\"1\" class=\"dataframe\">\n",
       "  <thead>\n",
       "    <tr style=\"text-align: right;\">\n",
       "      <th></th>\n",
       "      <th>Radial_dist</th>\n",
       "      <th>Temp</th>\n",
       "      <th>sza</th>\n",
       "      <th>Lon</th>\n",
       "      <th>lat</th>\n",
       "    </tr>\n",
       "  </thead>\n",
       "  <tbody>\n",
       "    <tr>\n",
       "      <th>0</th>\n",
       "      <td>6101.6103</td>\n",
       "      <td>351.793407</td>\n",
       "      <td>70.447693</td>\n",
       "      <td>110.811821</td>\n",
       "      <td>6.044366</td>\n",
       "    </tr>\n",
       "    <tr>\n",
       "      <th>1</th>\n",
       "      <td>6101.7029</td>\n",
       "      <td>351.029011</td>\n",
       "      <td>70.447685</td>\n",
       "      <td>110.811790</td>\n",
       "      <td>6.048340</td>\n",
       "    </tr>\n",
       "    <tr>\n",
       "      <th>2</th>\n",
       "      <td>6101.8468</td>\n",
       "      <td>349.827837</td>\n",
       "      <td>70.447678</td>\n",
       "      <td>110.811752</td>\n",
       "      <td>6.052754</td>\n",
       "    </tr>\n",
       "    <tr>\n",
       "      <th>3</th>\n",
       "      <td>6101.9845</td>\n",
       "      <td>348.757837</td>\n",
       "      <td>70.447670</td>\n",
       "      <td>110.811729</td>\n",
       "      <td>6.056283</td>\n",
       "    </tr>\n",
       "    <tr>\n",
       "      <th>4</th>\n",
       "      <td>6102.0664</td>\n",
       "      <td>348.148830</td>\n",
       "      <td>70.447662</td>\n",
       "      <td>110.811699</td>\n",
       "      <td>6.059810</td>\n",
       "    </tr>\n",
       "  </tbody>\n",
       "</table>\n",
       "</div>"
      ],
      "text/plain": [
       "   Radial_dist        Temp        sza         Lon       lat\n",
       "0    6101.6103  351.793407  70.447693  110.811821  6.044366\n",
       "1    6101.7029  351.029011  70.447685  110.811790  6.048340\n",
       "2    6101.8468  349.827837  70.447678  110.811752  6.052754\n",
       "3    6101.9845  348.757837  70.447670  110.811729  6.056283\n",
       "4    6102.0664  348.148830  70.447662  110.811699  6.059810"
      ]
     },
     "execution_count": 30,
     "metadata": {},
     "output_type": "execute_result"
    }
   ],
   "source": [
    "temp_data2.head()"
   ]
  },
  {
   "cell_type": "code",
   "execution_count": 31,
   "id": "b8590e86",
   "metadata": {},
   "outputs": [],
   "source": [
    "temp_data['Altitude_km'] = temp_data['Radial_Dist']-6051.8\n",
    "temp_data2['Altitude_km'] = temp_data2['Radial_dist']-6051.8"
   ]
  },
  {
   "cell_type": "code",
   "execution_count": 32,
   "id": "ed2e2a6b",
   "metadata": {},
   "outputs": [
    {
     "data": {
      "text/plain": [
       "<matplotlib.legend.Legend at 0x23ea06668f0>"
      ]
     },
     "execution_count": 32,
     "metadata": {},
     "output_type": "execute_result"
    },
    {
     "data": {
      "image/png": "[encoded data removed]",
      "text/plain": [
       "<Figure size 640x480 with 1 Axes>"
      ]
     },
     "metadata": {},
     "output_type": "display_data"
    }
   ],
   "source": [
    "plt.xlabel('Temperature (K)')\n",
    "plt.ylabel('Altitude(kms)')\n",
    "plt.title('Temperature Variation Profile')\n",
    "plt.ylim(45,85)\n",
    "\n",
    "plt.plot(temp_data.Temperature,temp_data.Altitude_km,label=\"Mid latitude Region(lat= 54-58 deg)\")\n",
    "plt.plot(temp_data2.Temp,temp_data2.Altitude_km,label=\"Equatorial Region (lat=6 deg)\")\n",
    "plt.legend()"
   ]
  },
  {
   "cell_type": "code",
   "execution_count": 33,
   "id": "19817e22",
   "metadata": {},
   "outputs": [],
   "source": [
    "PT_data = pd.read_csv('Temperature_plus_pressure.csv')"
   ]
  },
  {
   "cell_type": "code",
   "execution_count": 34,
   "id": "84ae8002",
   "metadata": {},
   "outputs": [],
   "source": [
    "PT_data.drop([109,110],inplace=True)"
   ]
  },
  {
   "cell_type": "code",
   "execution_count": 35,
   "id": "5624151d",
   "metadata": {},
   "outputs": [
    {
     "data": {
      "text/html": [
       "<div>\n",
       "<style scoped>\n",
       "    .dataframe tbody tr th:only-of-type {\n",
       "        vertical-align: middle;\n",
       "    }\n",
       "\n",
       "    .dataframe tbody tr th {\n",
       "        vertical-align: top;\n",
       "    }\n",
       "\n",
       "    .dataframe thead th {\n",
       "        text-align: right;\n",
       "    }\n",
       "</style>\n",
       "<table border=\"1\" class=\"dataframe\">\n",
       "  <thead>\n",
       "    <tr style=\"text-align: right;\">\n",
       "      <th></th>\n",
       "      <th>Radial_Dist</th>\n",
       "      <th>Temperature</th>\n",
       "      <th>Pressure(bar)</th>\n",
       "    </tr>\n",
       "  </thead>\n",
       "  <tbody>\n",
       "    <tr>\n",
       "      <th>0</th>\n",
       "      <td>6101.824883</td>\n",
       "      <td>352.504434</td>\n",
       "      <td>0.967948</td>\n",
       "    </tr>\n",
       "    <tr>\n",
       "      <th>1</th>\n",
       "      <td>6102.749043</td>\n",
       "      <td>342.537802</td>\n",
       "      <td>0.856854</td>\n",
       "    </tr>\n",
       "    <tr>\n",
       "      <th>2</th>\n",
       "      <td>6102.807146</td>\n",
       "      <td>342.241615</td>\n",
       "      <td>0.850218</td>\n",
       "    </tr>\n",
       "    <tr>\n",
       "      <th>3</th>\n",
       "      <td>6102.999387</td>\n",
       "      <td>340.465077</td>\n",
       "      <td>0.828562</td>\n",
       "    </tr>\n",
       "    <tr>\n",
       "      <th>4</th>\n",
       "      <td>6103.258709</td>\n",
       "      <td>337.623873</td>\n",
       "      <td>0.800032</td>\n",
       "    </tr>\n",
       "    <tr>\n",
       "      <th>...</th>\n",
       "      <td>...</td>\n",
       "      <td>...</td>\n",
       "      <td>...</td>\n",
       "    </tr>\n",
       "    <tr>\n",
       "      <th>104</th>\n",
       "      <td>6146.174225</td>\n",
       "      <td>215.805776</td>\n",
       "      <td>0.000152</td>\n",
       "    </tr>\n",
       "    <tr>\n",
       "      <th>105</th>\n",
       "      <td>6147.233824</td>\n",
       "      <td>219.929578</td>\n",
       "      <td>0.000122</td>\n",
       "    </tr>\n",
       "    <tr>\n",
       "      <th>106</th>\n",
       "      <td>6148.308303</td>\n",
       "      <td>219.022904</td>\n",
       "      <td>0.000098</td>\n",
       "    </tr>\n",
       "    <tr>\n",
       "      <th>107</th>\n",
       "      <td>6149.391707</td>\n",
       "      <td>217.426891</td>\n",
       "      <td>0.000078</td>\n",
       "    </tr>\n",
       "    <tr>\n",
       "      <th>108</th>\n",
       "      <td>6150.474927</td>\n",
       "      <td>216.174885</td>\n",
       "      <td>0.000062</td>\n",
       "    </tr>\n",
       "  </tbody>\n",
       "</table>\n",
       "<p>109 rows × 3 columns</p>\n",
       "</div>"
      ],
      "text/plain": [
       "     Radial_Dist  Temperature  Pressure(bar)\n",
       "0    6101.824883   352.504434       0.967948\n",
       "1    6102.749043   342.537802       0.856854\n",
       "2    6102.807146   342.241615       0.850218\n",
       "3    6102.999387   340.465077       0.828562\n",
       "4    6103.258709   337.623873       0.800032\n",
       "..           ...          ...            ...\n",
       "104  6146.174225   215.805776       0.000152\n",
       "105  6147.233824   219.929578       0.000122\n",
       "106  6148.308303   219.022904       0.000098\n",
       "107  6149.391707   217.426891       0.000078\n",
       "108  6150.474927   216.174885       0.000062\n",
       "\n",
       "[109 rows x 3 columns]"
      ]
     },
     "execution_count": 35,
     "metadata": {},
     "output_type": "execute_result"
    }
   ],
   "source": [
    "PT_data"
   ]
  },
  {
   "cell_type": "code",
   "execution_count": null,
   "id": "872c4a28",
   "metadata": {},
   "outputs": [],
   "source": []
  },
  {
   "cell_type": "code",
   "execution_count": 36,
   "id": "33d61db6",
   "metadata": {},
   "outputs": [],
   "source": [
    "PT_data['Altitude(km)']= PT_data['Radial_Dist']-6051.8\n",
    "PT_data['Pressure(atm)'] = PT_data['Pressure(bar)']*0.9869"
   ]
  },
  {
   "cell_type": "code",
   "execution_count": 37,
   "id": "f3fa7fae",
   "metadata": {},
   "outputs": [
    {
     "data": {
      "text/html": [
       "<div>\n",
       "<style scoped>\n",
       "    .dataframe tbody tr th:only-of-type {\n",
       "        vertical-align: middle;\n",
       "    }\n",
       "\n",
       "    .dataframe tbody tr th {\n",
       "        vertical-align: top;\n",
       "    }\n",
       "\n",
       "    .dataframe thead th {\n",
       "        text-align: right;\n",
       "    }\n",
       "</style>\n",
       "<table border=\"1\" class=\"dataframe\">\n",
       "  <thead>\n",
       "    <tr style=\"text-align: right;\">\n",
       "      <th></th>\n",
       "      <th>Radial_Dist</th>\n",
       "      <th>Temperature</th>\n",
       "      <th>Altitude(km)</th>\n",
       "      <th>Pressure(atm)</th>\n",
       "    </tr>\n",
       "  </thead>\n",
       "  <tbody>\n",
       "    <tr>\n",
       "      <th>0</th>\n",
       "      <td>6101.824883</td>\n",
       "      <td>352.504434</td>\n",
       "      <td>50.024883</td>\n",
       "      <td>0.955268</td>\n",
       "    </tr>\n",
       "    <tr>\n",
       "      <th>1</th>\n",
       "      <td>6102.749043</td>\n",
       "      <td>342.537802</td>\n",
       "      <td>50.949043</td>\n",
       "      <td>0.845630</td>\n",
       "    </tr>\n",
       "    <tr>\n",
       "      <th>2</th>\n",
       "      <td>6102.807146</td>\n",
       "      <td>342.241615</td>\n",
       "      <td>51.007146</td>\n",
       "      <td>0.839080</td>\n",
       "    </tr>\n",
       "    <tr>\n",
       "      <th>3</th>\n",
       "      <td>6102.999387</td>\n",
       "      <td>340.465077</td>\n",
       "      <td>51.199387</td>\n",
       "      <td>0.817708</td>\n",
       "    </tr>\n",
       "    <tr>\n",
       "      <th>4</th>\n",
       "      <td>6103.258709</td>\n",
       "      <td>337.623873</td>\n",
       "      <td>51.458709</td>\n",
       "      <td>0.789552</td>\n",
       "    </tr>\n",
       "    <tr>\n",
       "      <th>...</th>\n",
       "      <td>...</td>\n",
       "      <td>...</td>\n",
       "      <td>...</td>\n",
       "      <td>...</td>\n",
       "    </tr>\n",
       "    <tr>\n",
       "      <th>104</th>\n",
       "      <td>6146.174225</td>\n",
       "      <td>215.805776</td>\n",
       "      <td>94.374225</td>\n",
       "      <td>0.000150</td>\n",
       "    </tr>\n",
       "    <tr>\n",
       "      <th>105</th>\n",
       "      <td>6147.233824</td>\n",
       "      <td>219.929578</td>\n",
       "      <td>95.433824</td>\n",
       "      <td>0.000121</td>\n",
       "    </tr>\n",
       "    <tr>\n",
       "      <th>106</th>\n",
       "      <td>6148.308303</td>\n",
       "      <td>219.022904</td>\n",
       "      <td>96.508303</td>\n",
       "      <td>0.000097</td>\n",
       "    </tr>\n",
       "    <tr>\n",
       "      <th>107</th>\n",
       "      <td>6149.391707</td>\n",
       "      <td>217.426891</td>\n",
       "      <td>97.591707</td>\n",
       "      <td>0.000077</td>\n",
       "    </tr>\n",
       "    <tr>\n",
       "      <th>108</th>\n",
       "      <td>6150.474927</td>\n",
       "      <td>216.174885</td>\n",
       "      <td>98.674927</td>\n",
       "      <td>0.000062</td>\n",
       "    </tr>\n",
       "  </tbody>\n",
       "</table>\n",
       "<p>109 rows × 4 columns</p>\n",
       "</div>"
      ],
      "text/plain": [
       "     Radial_Dist  Temperature  Altitude(km)  Pressure(atm)\n",
       "0    6101.824883   352.504434     50.024883       0.955268\n",
       "1    6102.749043   342.537802     50.949043       0.845630\n",
       "2    6102.807146   342.241615     51.007146       0.839080\n",
       "3    6102.999387   340.465077     51.199387       0.817708\n",
       "4    6103.258709   337.623873     51.458709       0.789552\n",
       "..           ...          ...           ...            ...\n",
       "104  6146.174225   215.805776     94.374225       0.000150\n",
       "105  6147.233824   219.929578     95.433824       0.000121\n",
       "106  6148.308303   219.022904     96.508303       0.000097\n",
       "107  6149.391707   217.426891     97.591707       0.000077\n",
       "108  6150.474927   216.174885     98.674927       0.000062\n",
       "\n",
       "[109 rows x 4 columns]"
      ]
     },
     "execution_count": 37,
     "metadata": {},
     "output_type": "execute_result"
    }
   ],
   "source": [
    "PT_data.drop(['Pressure(bar)'], axis=1)"
   ]
  },
  {
   "cell_type": "code",
   "execution_count": 41,
   "id": "3128a3fa",
   "metadata": {},
   "outputs": [
    {
     "ename": "KeyError",
     "evalue": "'Pressure(Pa)'",
     "output_type": "error",
     "traceback": [
      "\u001b[1;31m---------------------------------------------------------------------------\u001b[0m",
      "\u001b[1;31mKeyError\u001b[0m                                  Traceback (most recent call last)",
      "File \u001b[1;32m~\\AppData\\Local\\Programs\\Python\\Python310\\lib\\site-packages\\pandas\\core\\indexes\\base.py:3800\u001b[0m, in \u001b[0;36mIndex.get_loc\u001b[1;34m(self, key, method, tolerance)\u001b[0m\n\u001b[0;32m   3799\u001b[0m \u001b[38;5;28;01mtry\u001b[39;00m:\n\u001b[1;32m-> 3800\u001b[0m     \u001b[38;5;28;01mreturn\u001b[39;00m \u001b[38;5;28;43mself\u001b[39;49m\u001b[38;5;241;43m.\u001b[39;49m\u001b[43m_engine\u001b[49m\u001b[38;5;241;43m.\u001b[39;49m\u001b[43mget_loc\u001b[49m\u001b[43m(\u001b[49m\u001b[43mcasted_key\u001b[49m\u001b[43m)\u001b[49m\n\u001b[0;32m   3801\u001b[0m \u001b[38;5;28;01mexcept\u001b[39;00m \u001b[38;5;167;01mKeyError\u001b[39;00m \u001b[38;5;28;01mas\u001b[39;00m err:\n",
      "File \u001b[1;32m~\\AppData\\Local\\Programs\\Python\\Python310\\lib\\site-packages\\pandas\\_libs\\index.pyx:138\u001b[0m, in \u001b[0;36mpandas._libs.index.IndexEngine.get_loc\u001b[1;34m()\u001b[0m\n",
      "File \u001b[1;32m~\\AppData\\Local\\Programs\\Python\\Python310\\lib\\site-packages\\pandas\\_libs\\index.pyx:165\u001b[0m, in \u001b[0;36mpandas._libs.index.IndexEngine.get_loc\u001b[1;34m()\u001b[0m\n",
      "File \u001b[1;32mpandas\\_libs\\hashtable_class_helper.pxi:5745\u001b[0m, in \u001b[0;36mpandas._libs.hashtable.PyObjectHashTable.get_item\u001b[1;34m()\u001b[0m\n",
      "File \u001b[1;32mpandas\\_libs\\hashtable_class_helper.pxi:5753\u001b[0m, in \u001b[0;36mpandas._libs.hashtable.PyObjectHashTable.get_item\u001b[1;34m()\u001b[0m\n",
      "\u001b[1;31mKeyError\u001b[0m: 'Pressure(Pa)'",
      "\nThe above exception was the direct cause of the following exception:\n",
      "\u001b[1;31mKeyError\u001b[0m                                  Traceback (most recent call last)",
      "Cell \u001b[1;32mIn [41], line 1\u001b[0m\n\u001b[1;32m----> 1\u001b[0m plt\u001b[38;5;241m.\u001b[39mplot(PT_data[\u001b[38;5;124m'\u001b[39m\u001b[38;5;124mTemperature\u001b[39m\u001b[38;5;124m'\u001b[39m],PT_data[\u001b[38;5;124m'\u001b[39m\u001b[38;5;124mPressure(Pa)\u001b[39m\u001b[38;5;124m'\u001b[39m])\n\u001b[0;32m      2\u001b[0m plt\u001b[38;5;241m.\u001b[39mxlabel(\u001b[38;5;124m\"\u001b[39m\u001b[38;5;124mTemperature\u001b[39m\u001b[38;5;124m\"\u001b[39m)\n\u001b[0;32m      3\u001b[0m Plt\u001b[38;5;241m.\u001b[39mylabel(\u001b[38;5;124m\"\u001b[39m\u001b[38;5;124mPressure\u001b[39m\u001b[38;5;124m\"\u001b[39m)\n",
      "File \u001b[1;32m~\\AppData\\Local\\Programs\\Python\\Python310\\lib\\site-packages\\pandas\\core\\frame.py:3805\u001b[0m, in \u001b[0;36mDataFrame.__getitem__\u001b[1;34m(self, key)\u001b[0m\n\u001b[0;32m   3803\u001b[0m \u001b[38;5;28;01mif\u001b[39;00m \u001b[38;5;28mself\u001b[39m\u001b[38;5;241m.\u001b[39mcolumns\u001b[38;5;241m.\u001b[39mnlevels \u001b[38;5;241m>\u001b[39m \u001b[38;5;241m1\u001b[39m:\n\u001b[0;32m   3804\u001b[0m     \u001b[38;5;28;01mreturn\u001b[39;00m \u001b[38;5;28mself\u001b[39m\u001b[38;5;241m.\u001b[39m_getitem_multilevel(key)\n\u001b[1;32m-> 3805\u001b[0m indexer \u001b[38;5;241m=\u001b[39m \u001b[38;5;28;43mself\u001b[39;49m\u001b[38;5;241;43m.\u001b[39;49m\u001b[43mcolumns\u001b[49m\u001b[38;5;241;43m.\u001b[39;49m\u001b[43mget_loc\u001b[49m\u001b[43m(\u001b[49m\u001b[43mkey\u001b[49m\u001b[43m)\u001b[49m\n\u001b[0;32m   3806\u001b[0m \u001b[38;5;28;01mif\u001b[39;00m is_integer(indexer):\n\u001b[0;32m   3807\u001b[0m     indexer \u001b[38;5;241m=\u001b[39m [indexer]\n",
      "File \u001b[1;32m~\\AppData\\Local\\Programs\\Python\\Python310\\lib\\site-packages\\pandas\\core\\indexes\\base.py:3802\u001b[0m, in \u001b[0;36mIndex.get_loc\u001b[1;34m(self, key, method, tolerance)\u001b[0m\n\u001b[0;32m   3800\u001b[0m     \u001b[38;5;28;01mreturn\u001b[39;00m \u001b[38;5;28mself\u001b[39m\u001b[38;5;241m.\u001b[39m_engine\u001b[38;5;241m.\u001b[39mget_loc(casted_key)\n\u001b[0;32m   3801\u001b[0m \u001b[38;5;28;01mexcept\u001b[39;00m \u001b[38;5;167;01mKeyError\u001b[39;00m \u001b[38;5;28;01mas\u001b[39;00m err:\n\u001b[1;32m-> 3802\u001b[0m     \u001b[38;5;28;01mraise\u001b[39;00m \u001b[38;5;167;01mKeyError\u001b[39;00m(key) \u001b[38;5;28;01mfrom\u001b[39;00m \u001b[38;5;21;01merr\u001b[39;00m\n\u001b[0;32m   3803\u001b[0m \u001b[38;5;28;01mexcept\u001b[39;00m \u001b[38;5;167;01mTypeError\u001b[39;00m:\n\u001b[0;32m   3804\u001b[0m     \u001b[38;5;66;03m# If we have a listlike key, _check_indexing_error will raise\u001b[39;00m\n\u001b[0;32m   3805\u001b[0m     \u001b[38;5;66;03m#  InvalidIndexError. Otherwise we fall through and re-raise\u001b[39;00m\n\u001b[0;32m   3806\u001b[0m     \u001b[38;5;66;03m#  the TypeError.\u001b[39;00m\n\u001b[0;32m   3807\u001b[0m     \u001b[38;5;28mself\u001b[39m\u001b[38;5;241m.\u001b[39m_check_indexing_error(key)\n",
      "\u001b[1;31mKeyError\u001b[0m: 'Pressure(Pa)'"
     ]
    }
   ],
   "source": [
    "plt.plot(PT_data['Temperature'],PT_data['Pressure(Pa)'])\n",
    "plt.xlabel(\"Temperature\")\n",
    "Plt.ylabel(\"Pressure\")\n",
    "plt.title(\"Pressure vs Temp\")"
   ]
  },
  {
   "cell_type": "code",
   "execution_count": 40,
   "id": "08d600e5",
   "metadata": {},
   "outputs": [
    {
     "data": {
      "image/png": "[encoded data removed]",
      "text/plain": [
       "<Figure size 640x480 with 1 Axes>"
      ]
     },
     "metadata": {},
     "output_type": "display_data"
    },
    {
     "data": {
      "image/png": "[encoded data removed]",
      "text/plain": [
       "<Figure size 640x480 with 1 Axes>"
      ]
     },
     "metadata": {},
     "output_type": "display_data"
    }
   ],
   "source": [
    "import random\n",
    "\n",
    "\n",
    "T = PT_data['Temperature'].to_numpy()\n",
    "p = PT_data['Pressure(atm)'].to_numpy()\n",
    "y= PT_data['Altitude(km)'].to_numpy()\n",
    "\n",
    "# q is the number mixing ratio of the gasses\n",
    "qco2 = 0.965\n",
    "qn2 = 0.035\n",
    "qso2 = 0.00015  \n",
    "\n",
    "# In GHz given in .obs file of akatsuki\n",
    "f=8.410932002 \n",
    "\n",
    "#Creating empty array\n",
    "alpha_co2_n2 = np.zeros(len(T))\n",
    "alpha_so2 = np.zeros(len(T))\n",
    "alpha_h2so4 = np.zeros(len(T))\n",
    "alpha =  np.zeros(len(T))\n",
    "q_h2so4 = np.zeros(len(T))\n",
    "\n",
    "\n",
    "# Taking random values of total alpha\n",
    "\n",
    "\n",
    "for i in range(0,len(T)):\n",
    "    alpha_co2_n2[i] = 1.15*10**8*(qco2**2 + 0.25*qco2*qn2+0.0054*qn2**2)*f**2*(p[i]**2)*T[i]**(-5)\n",
    "    alpha_so2[i] = 4.3*10**6*f**2*p[i]**(1.28)*T[i]**(-2.91)*qso2\n",
    "    #alpha[i]=np.random.uniform(3*10**27,4*10**27)\n",
    "    #alpha_h2so4[i]= alpha[i]-alpha_co2_n2[i]- alpha_so2[i]\n",
    "    \n",
    "    #q_h2so4[i] = alpha_h2so4[i]/(444.57*(p[i]*1.01325**(-1)*10**(-5))**1.302*(553/T[i])**3.0)\n",
    "    \n",
    "    \n",
    "    \n",
    "    \n",
    "    \n",
    "fig, ax = plt.subplots()\n",
    "ax.plot(alpha_co2_n2,y,label='Absorptivity due to CO2-N2')\n",
    "plt.legend()\n",
    "'''\n",
    "def annot_max(alpha_co2_n2,y ax=None):\n",
    "    ymax = y[np.argmax(alpha_co2_n2)]\n",
    "    xmax = x.max()\n",
    "    \n",
    "    text= \"x={:.3f}, y={:.3f}\".format(xmax, ymax)\n",
    "    if not ax:\n",
    "        ax=plt.gca()\n",
    "    bbox_props = dict(boxstyle=\"square,pad=0.3\", fc=\"w\", ec=\"k\", lw=0.5)\n",
    "    arrowprops=dict(arrowstyle=\"->\",connectionstyle=\"angle,angleA=90,angleB=20\")\n",
    "    kw = dict(xycoords='data',textcoords=\"axes fraction\",\n",
    "              arrowprops=arrowprops, bbox=bbox_props, ha=\"left\", va=\"bottom\")\n",
    "    ax.annotate(text, xy=(xmax, ymax), xytext=(0.94,0.96), **kw)\n",
    "annot_max(alpha_co2_n2,y)\n",
    "'''\n",
    "\n",
    "plt.ylabel('Altitude (km)')\n",
    "plt.xlabel('Absorptivity(dB/km)')\n",
    "plt.show()\n",
    "\n",
    "\n",
    "\n",
    "plt.plot(alpha_so2,y,label='Absorptivity due to SO2')\n",
    "\n",
    "plt.ylabel('Altitude (km)')\n",
    "plt.xlabel('Absorptivity (dB/km)')\n",
    "plt.legend()\n",
    "plt.show()\n",
    "\n",
    "# plt.plot(alpha_h2so4,y,label='Absorptivity due to H2SO4')\n",
    "# plt.ylabel('Altitude (km)')\n",
    "# plt.xlabel('Absorptivity (dB/km)')\n",
    "# plt.legend()\n",
    "# plt.show()\n",
    "\n",
    "# plt.plot(q_h2so4,y,label='Mixing ratio of H2SO4')\n",
    "# plt.ylabel('Altitude (km)')\n",
    "# plt.xlabel('Mixing ratio')\n",
    "# plt.legend()\n",
    "# plt.show()"
   ]
  },
  {
   "cell_type": "code",
   "execution_count": null,
   "id": "2e15c217",
   "metadata": {},
   "outputs": [],
   "source": []
  }
 ],
 "metadata": {
  "kernelspec": {
   "display_name": "Python 3 (ipykernel)",
   "language": "python",
   "name": "python3"
  },
  "language_info": {
   "codemirror_mode": {
    "name": "ipython",
    "version": 3
   },
   "file_extension": ".py",
   "mimetype": "text/x-python",
   "name": "python",
   "nbconvert_exporter": "python",
   "pygments_lexer": "ipython3",
   "version": "3.10.7"
  }
 },
 "nbformat": 4,
 "nbformat_minor": 5
}
